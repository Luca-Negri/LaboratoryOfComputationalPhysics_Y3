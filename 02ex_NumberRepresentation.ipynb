{
 "cells": [
  {
   "cell_type": "markdown",
   "metadata": {},
   "source": [
    "1\\. Write a function that converts number representation (bin<->dec<->hex)"
   ]
  },
  {
   "cell_type": "code",
   "execution_count": 8,
   "metadata": {},
   "outputs": [
    {
     "name": "stdout",
     "output_type": "stream",
     "text": [
      "('0xc', 12)\n"
     ]
    }
   ],
   "source": [
    "def converter1(val):\n",
    "    if type(val)==str:\n",
    "        if val[1]=='b':\n",
    "            out1=hex(int(val,2))\n",
    "            out2=int(val,2)\n",
    "        elif val[1]=='x':\n",
    "            out1=bin(val,16)\n",
    "            out2=int(val,16)\n",
    "    else:\n",
    "        out1=hex(val)\n",
    "        out2=bin(val)\n",
    "            \n",
    "    return out1,out2\n",
    "\n",
    "\n",
    "print(converter(bin(12)))"
   ]
  },
  {
   "cell_type": "code",
   "execution_count": 11,
   "metadata": {},
   "outputs": [
    {
     "data": {
      "text/plain": [
       "[2]"
      ]
     },
     "execution_count": 11,
     "metadata": {},
     "output_type": "execute_result"
    }
   ],
   "source": [
    "a=[1,2,3,4,5,6]\n",
    "a[1:2]\n"
   ]
  },
  {
   "cell_type": "markdown",
   "metadata": {},
   "source": [
    "2\\. Write a function that converts a 32 bit word into a single precision floating point (i.e. interprets the various bits as sign, mantissa and exponent)"
   ]
  },
  {
   "cell_type": "code",
   "execution_count": 26,
   "metadata": {},
   "outputs": [
    {
     "name": "stdout",
     "output_type": "stream",
     "text": [
      "9834.7998046875\n"
     ]
    }
   ],
   "source": [
    "def converter2(v):\n",
    "    if type(v)!=str:\n",
    "        print('ERROR: value must be a string')\n",
    "        return\n",
    "    elif len(v)!=32:\n",
    "        print('ERROR: wrong length')\n",
    "        return\n",
    "    f=1\n",
    "    for i,num in enumerate(v[9:]):\n",
    "        f+=2**(-i-1)*int(num)\n",
    "    exp=int(v[1:9],2)\n",
    "    return (-1.0)**(int(v[0],2))*f*2**(exp-127)\n",
    "\n",
    "print(converter2('01000110000110011010101100110011'))"
   ]
  },
  {
   "cell_type": "markdown",
   "metadata": {},
   "source": [
    "3\\. Write a program to determine the underflow and overflow limits (within a factor of 2) for python on your computer. \n",
    "\n",
    "**Tips**: define two variables inizialized to 1 and halve/double them enough time to exceed the under/over-flow limits  "
   ]
  },
  {
   "cell_type": "code",
   "execution_count": 34,
   "metadata": {},
   "outputs": [
    {
     "name": "stdout",
     "output_type": "stream",
     "text": [
      "8.98846567431158e+307\n",
      "5e-324\n"
     ]
    }
   ],
   "source": [
    "def overcounter():\n",
    "    a=1.0\n",
    "    a_new=a*2.0\n",
    "    while(a!=a_new):\n",
    "        a_old=a\n",
    "        a=a_new\n",
    "        a_new=a*2.0\n",
    "    return a_old\n",
    "\n",
    "def undercounter():\n",
    "    a=1.0\n",
    "    while(a!=0):\n",
    "        a_old=a\n",
    "        a=a*0.5\n",
    "    return a_old\n",
    "    \n",
    "    \n",
    "print(overcounter())\n",
    "print(undercounter())"
   ]
  },
  {
   "cell_type": "markdown",
   "metadata": {},
   "source": [
    "4\\. Write a program to determine the machine precision\n",
    "\n",
    "**Tips**: define a new variable by adding a smaller and smaller value (proceeding similarly to prob. 2) to an original variable and check the point where the two are the same "
   ]
  },
  {
   "cell_type": "code",
   "execution_count": 40,
   "metadata": {},
   "outputs": [
    {
     "name": "stdout",
     "output_type": "stream",
     "text": [
      "5.551115123125783e-17\n"
     ]
    }
   ],
   "source": [
    "def machine_precision():\n",
    "    a , b=1.0,1.0\n",
    "    c=0.5\n",
    "    while ((a-c)!=b):\n",
    "        c*=0.5\n",
    "    return c\n",
    "print(machine_precision())"
   ]
  },
  {
   "cell_type": "markdown",
   "metadata": {},
   "source": [
    "5\\. Write a function that takes in input three parameters $a$, $b$ and $c$ and prints out the two solutions to the quadratic equation $ax^2+bx+c=0$ using the standard formula:\n",
    "$$\n",
    "x=\\frac{-b\\pm\\sqrt{b^2-4ac}}{2a}\n",
    "$$\n",
    "\n",
    "(a) use the program to compute the solution for $a=0.001$, $b=1000$ and $c=0.001$\n",
    "\n",
    "(b) re-express the standard solution formula by multiplying top and bottom by $-b\\mp\\sqrt{b^2-4ac}$ and again find the solution for $a=0.001$, $b=1000$ and $c=0.001$. How does it compare with what previously obtained? Why?\n",
    "\n",
    "(c) write a function that compute the roots of a quadratic equation accurately in all cases"
   ]
  },
  {
   "cell_type": "code",
   "execution_count": 55,
   "metadata": {},
   "outputs": [
    {
     "name": "stdout",
     "output_type": "stream",
     "text": [
      "(-9.999894245993346e-07, -999999.999999)\n",
      "(-1.000000000001e-06, -1000010.5755125057)\n"
     ]
    }
   ],
   "source": [
    "#a\n",
    "def quad1(a,b,c):\n",
    "    return (-b+(b**2-4*a*c)**0.5)/(2*a),(-b-(b**2-4*a*c)**0.5)/(2*a)\n",
    "print(quad1(0.001,1000,0.001))\n",
    "#b\n",
    "def quad2(a,b,c):\n",
    "    return (2*c)/(-b-(b**2-4*a*c)**0.5),(2*c)/(-b+(b**2-4*a*c)**0.5)\n",
    "print(quad2(0.001,1000,0.001))\n",
    "\n",
    "\n",
    "#c\n",
    "\n",
    "def quad3(abc):\n",
    "    if b/a>100:\n",
    "        return (2*c)/(-b-(b**2-4*a*c)**0.5),(2*c)/(-b+(b**2-4*a*c)**0.5)\n",
    "\n",
    "    else:\n",
    "        return (2*c)/(-b-(b**2-4*a*c)**0.5),(2*c)/(-b+(b**2-4*a*c)**0.5)\n",
    "\n"
   ]
  },
  {
   "cell_type": "markdown",
   "metadata": {},
   "source": [
    "6\\. Write a program that implements the function $f(x)=x(x−1)$\n",
    "\n",
    "(a) Calculate the derivative of the function at the point $x = 1$ using the derivative definition:\n",
    "\n",
    "$$\n",
    "\\frac{{\\rm d}f}{{\\rm d}x} = \\lim_{\\delta\\to0} \\frac{f(x+\\delta)-f(x)}{\\delta}\n",
    "$$\n",
    "\n",
    "with $\\delta = 10^{−2}$. Calculate the true value of the same derivative analytically and compare with the answer your program gives. The two will not agree perfectly. Why not?\n",
    "\n",
    "(b) Repeat the calculation for $\\delta = 10^{−4}, 10^{−6}, 10^{−8}, 10^{−10}, 10^{−12}$ and $10^{−14}$. How does the accuracy scales with $\\delta$?"
   ]
  },
  {
   "cell_type": "code",
   "execution_count": 99,
   "metadata": {},
   "outputs": [
    {
     "name": "stdout",
     "output_type": "stream",
     "text": [
      "[(1.0099999999999998, 1), (1.0000999999992821, 1), (1.000001000006634, 1), (0.999999993922529, 1), (1.000000082740371, 1), (1.000088900582341, 1), (0.9992007221626409, 1)]\n"
     ]
    }
   ],
   "source": [
    "def quad(x):\n",
    "    return x**2-x\n",
    "\n",
    "def derivative(func,x,sigma):\n",
    "    deriv1=(func(x+sigma)-func(x))/sigma\n",
    "    deriv2=2*x-1\n",
    "    return deriv1,deriv2\n",
    "print([derivative(quad,1,10**sigma) for sigma in range(-2,-16,-2)])"
   ]
  },
  {
   "cell_type": "markdown",
   "metadata": {},
   "source": [
    "7\\. Consider the integral of the semicircle of radius 1:\n",
    "$$\n",
    "I=\\int_{-1}^{1} \\sqrt(1-x^2) {\\rm d}x\n",
    "$$\n",
    "which it's known to be $I=\\frac{\\pi}{2}=1.57079632679...$.\n",
    "Alternatively we can use the Riemann definition of the integral:\n",
    "$$\n",
    "I=\\lim_{N\\to\\infty} \\sum_{k=1}^{N} h y_k \n",
    "$$\n",
    "\n",
    "with $h=2/N$ the width of each of the $N$ slices the domain is divided into and where\n",
    "$y_k$ is the value of the function at the $k-$th slice.\n",
    "\n",
    "(a) Write a programe to compute the integral with $N=100$. How does the result compares to the true value?\n",
    "\n",
    "(b) How much can $N$ be increased if the computation needs to be run in less than a second? What is the gain in running it for 1 minute? \n"
   ]
  },
  {
   "cell_type": "code",
   "execution_count": 91,
   "metadata": {},
   "outputs": [
    {
     "name": "stdout",
     "output_type": "stream",
     "text": [
      "0.9999999907310115\n",
      "1.5707963259526039\n",
      "56.0430965423584\n"
     ]
    }
   ],
   "source": [
    "from time import time\n",
    "def integral(N):\n",
    "    inte=0\n",
    "    dx=2.0/N\n",
    "    x=-1\n",
    "    for i in range(N-1):\n",
    "        x+=dx\n",
    "        inte+=dx*(1-x**2)**0.5\n",
    "    print(x)\n",
    "    return inte\n",
    "N=3000000*60\n",
    "t1=time()\n",
    "print(integral(N))\n",
    "print(time()-t1)    "
   ]
  },
  {
   "cell_type": "code",
   "execution_count": 104,
   "metadata": {},
   "outputs": [
    {
     "name": "stdout",
     "output_type": "stream",
     "text": [
      "FOtteteVI FUnzioni LAMBDA Fate chifo\n"
     ]
    }
   ],
   "source": [
    "lal=lambda : 'FOtteteVI FUnzioni LAMBDA'+' Fate chifo'\n",
    "print(lal())"
   ]
  }
 ],
 "metadata": {
  "kernelspec": {
   "display_name": "Python 3",
   "language": "python",
   "name": "python3"
  },
  "language_info": {
   "codemirror_mode": {
    "name": "ipython",
    "version": 3
   },
   "file_extension": ".py",
   "mimetype": "text/x-python",
   "name": "python",
   "nbconvert_exporter": "python",
   "pygments_lexer": "ipython3",
   "version": "3.7.4"
  }
 },
 "nbformat": 4,
 "nbformat_minor": 2
}
